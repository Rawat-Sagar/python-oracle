{
 "cells": [
  {
   "cell_type": "code",
   "execution_count": 1,
   "id": "55edf225",
   "metadata": {},
   "outputs": [
    {
     "name": "stdout",
     "output_type": "stream",
     "text": [
      "Sagar\n"
     ]
    }
   ],
   "source": [
    "print(\"Sagar\")"
   ]
  },
  {
   "cell_type": "code",
   "execution_count": 2,
   "id": "dd9d83dd",
   "metadata": {},
   "outputs": [
    {
     "name": "stdout",
     "output_type": "stream",
     "text": [
      "list(enumerate(str) =  [(0, 'c'), (1, 'o'), (2, 'l'), (3, 'd')]\n",
      "len(str) =  4\n"
     ]
    }
   ],
   "source": [
    "str = 'cold'\n",
    "\n",
    "# enumerate()\n",
    "list_enumerate = list(enumerate(str))\n",
    "print('list(enumerate(str) = ', list_enumerate)\n",
    "\n",
    "#character count\n",
    "print('len(str) = ', len(str))"
   ]
  },
  {
   "cell_type": "code",
   "execution_count": 3,
   "id": "f93f72ad",
   "metadata": {},
   "outputs": [
    {
     "name": "stdout",
     "output_type": "stream",
     "text": [
      "\n",
      "--- Default Order ---\n",
      "John, Bill and Sean\n",
      "\n",
      "--- Positional Order ---\n",
      "Bill, John and Sean\n",
      "\n",
      "--- Keyword Order ---\n",
      "Sean, Bill and John\n"
     ]
    }
   ],
   "source": [
    "# Python string format() method\n",
    "\n",
    "# default(implicit) order\n",
    "default_order = \"{}, {} and {}\".format('John','Bill','Sean')\n",
    "print('\\n--- Default Order ---')\n",
    "print(default_order)\n",
    "\n",
    "# order using positional argument\n",
    "positional_order = \"{1}, {0} and {2}\".format('John','Bill','Sean')\n",
    "print('\\n--- Positional Order ---')\n",
    "print(positional_order)\n",
    "\n",
    "# order using keyword argument\n",
    "keyword_order = \"{s}, {b} and {j}\".format(j='John',b='Bill',s='Sean')\n",
    "print('\\n--- Keyword Order ---')\n",
    "print(keyword_order)"
   ]
  },
  {
   "cell_type": "code",
   "execution_count": 4,
   "id": "c234ec83",
   "metadata": {},
   "outputs": [
    {
     "name": "stdout",
     "output_type": "stream",
     "text": [
      "Sagar,Rawat\n"
     ]
    }
   ],
   "source": [
    "key = \"{},{}\".format('Sagar','Rawat')\n",
    "print(key)"
   ]
  },
  {
   "cell_type": "code",
   "execution_count": 5,
   "id": "08bce01c",
   "metadata": {},
   "outputs": [
    {
     "name": "stdout",
     "output_type": "stream",
     "text": [
      "before calling rohan() 20\n",
      "after calling rohan() 20\n",
      "88\n"
     ]
    }
   ],
   "source": [
    "x = 89\n",
    "def harry():\n",
    "    x = 20\n",
    "    def rohan():\n",
    "        global x\n",
    "        x = 88\n",
    "    print(\"before calling rohan()\", x)\n",
    "    rohan()\n",
    "    print(\"after calling rohan()\", x)\n",
    "\n",
    "harry()\n",
    "print(x)"
   ]
  },
  {
   "cell_type": "code",
   "execution_count": 6,
   "id": "7c86c526",
   "metadata": {},
   "outputs": [
    {
     "name": "stdout",
     "output_type": "stream",
     "text": [
      "6\n"
     ]
    }
   ],
   "source": [
    "res = lambda n1,n2,n3:n1+n2+n3\n",
    "print(res(1,2,3))"
   ]
  },
  {
   "cell_type": "code",
   "execution_count": 7,
   "id": "67906b51",
   "metadata": {},
   "outputs": [
    {
     "name": "stdout",
     "output_type": "stream",
     "text": [
      "4\n"
     ]
    }
   ],
   "source": [
    "res = lambda n:n*n\n",
    "print(res(2))"
   ]
  },
  {
   "cell_type": "code",
   "execution_count": 8,
   "id": "9589c772",
   "metadata": {},
   "outputs": [
    {
     "name": "stdout",
     "output_type": "stream",
     "text": [
      "[2, 3, 4, 5, 6, 7, 9]\n",
      "[9, 7, 6, 5, 4, 3, 2]\n"
     ]
    }
   ],
   "source": [
    "lst = [2,5,9,7,4,6,3]\n",
    "lst.sort()\n",
    "print(lst)\n",
    "lst.sort(reverse=True)\n",
    "print(lst)"
   ]
  },
  {
   "cell_type": "code",
   "execution_count": 9,
   "id": "fa480069",
   "metadata": {},
   "outputs": [
    {
     "name": "stdout",
     "output_type": "stream",
     "text": [
      "3.141592653589793\n"
     ]
    }
   ],
   "source": [
    "import math\n",
    "print(math.pi)"
   ]
  },
  {
   "cell_type": "code",
   "execution_count": null,
   "id": "30437e9d",
   "metadata": {},
   "outputs": [],
   "source": []
  },
  {
   "cell_type": "code",
   "execution_count": 10,
   "id": "b181e782",
   "metadata": {},
   "outputs": [
    {
     "name": "stdout",
     "output_type": "stream",
     "text": [
      "Enter5\n",
      "120\n"
     ]
    }
   ],
   "source": [
    "def fatcorial_rec(n):\n",
    "    if n==1:\n",
    "        return 1 \n",
    "    else:\n",
    "        return n*fatcorial_rec(n-1)\n",
    "i = int(input(\"Enter\"))\n",
    "print(fatcorial_rec(i))"
   ]
  },
  {
   "cell_type": "code",
   "execution_count": 11,
   "id": "75c25a55",
   "metadata": {},
   "outputs": [],
   "source": [
    "# def function_name_print(a, b, c, d, e):\n",
    "#     print(a, b, c, d, e)\n",
    "\n",
    "# def funargs(normal, *argsrohan, **kwargsbala):\n",
    "#     print(normal)\n",
    "#     for item in argsrohan:\n",
    "#         print(item)\n",
    "#     print(\"\\nNow I would Like to introduce some of our heroes\")\n",
    "#     for key, value in kwargsbala.items():\n",
    "#         print(f\"{key} is a {value}\")\n",
    "\n",
    "\n",
    "# # function_name_print(\"Harry\", \"Rohan\", \"Skillf\", \"Hammad\", \"Shivam\")\n",
    "\n",
    "# har = [\"Harry\", \"Rohan\", \"Skillf\", \"Hammad\",\n",
    "#        \"Shivam\", \"The programmer\"]\n",
    "# normal = \"I am a normal Argument and the students are:\"\n",
    "# kw = {\"Rohan\":\"Monitor\", \"Harry\":\"Fitness Instructor\",\n",
    "#       \"The Programmer\": \"Coordinator\", \"Shivam\":\"Cook\"}\n",
    "# funargs(normal, *har, **kw)\n",
    "\n",
    "\n",
    "  \n"
   ]
  },
  {
   "cell_type": "code",
   "execution_count": 12,
   "id": "76fa1413",
   "metadata": {},
   "outputs": [
    {
     "name": "stdout",
     "output_type": "stream",
     "text": [
      "0 code\n",
      "1 with\n",
      "2 harry\n",
      "*************\n",
      "0 sagar\n",
      "1 rawat\n",
      "2 is\n",
      "4 boy\n"
     ]
    }
   ],
   "source": [
    "list_1=[\"code\",\"with\",\"harry\"]\n",
    "for index,val in enumerate(list_1):\n",
    "    print(index,val)\n",
    "\n",
    "print(\"*************\")\n",
    "    \n",
    "lst  = [\"sagar\",\"rawat\",\"is\",\"good\",\"boy\"]\n",
    "for index,val in enumerate(lst):\n",
    "    if index == 3:\n",
    "        continue\n",
    "    else:\n",
    "        print(index,val)"
   ]
  },
  {
   "cell_type": "code",
   "execution_count": 13,
   "id": "b39d73c1",
   "metadata": {},
   "outputs": [
    {
     "name": "stdout",
     "output_type": "stream",
     "text": [
      "aand the name is __main__\n",
      "Ye string harry ko de de thakur Harry1\n",
      "15\n"
     ]
    }
   ],
   "source": [
    "def printhar(string):\n",
    "    return f\"Ye string harry ko de de thakur {string}\"\n",
    "\n",
    "def add(num1, num2):\n",
    "    return num1 + num2 + 5\n",
    "\n",
    "\n",
    "print(\"aand the name is\", __name__)\n",
    "\n",
    "if __name__ == '__main__':\n",
    "    print(printhar(\"Harry1\"))\n",
    "    o = add(4, 6)\n",
    "    print(o)"
   ]
  },
  {
   "cell_type": "code",
   "execution_count": 14,
   "id": "0a8887e5",
   "metadata": {},
   "outputs": [
    {
     "name": "stdout",
     "output_type": "stream",
     "text": [
      "1, 2, 3, 4\n",
      "1,2,3,4\n",
      "1234\n"
     ]
    }
   ],
   "source": [
    "#join() with lists\n",
    "numList = ['1', '2', '3', '4']\n",
    "separator = ', '\n",
    "print(separator.join(numList))\n",
    "print(\",\".join(numList))\n",
    "print(\"\".join(numList))\n",
    "# only for string"
   ]
  },
  {
   "cell_type": "code",
   "execution_count": 15,
   "id": "152d6cf8",
   "metadata": {},
   "outputs": [
    {
     "name": "stdout",
     "output_type": "stream",
     "text": [
      "John-cena-Randy-orton-Sheamus-khali-jinder mahal other wwe superstars\n"
     ]
    }
   ],
   "source": [
    "lis = [\"John\", \"cena\", \"Randy\", \"orton\",\n",
    "       \"Sheamus\", \"khali\", \"jinder mahal\"]\n",
    "\n",
    "# for item in lis:\n",
    "#     print(item, \"and\", end=\" \")\n",
    "\n",
    "a = \"-\".join(lis)\n",
    "print(a, \"other wwe superstars\")"
   ]
  },
  {
   "cell_type": "code",
   "execution_count": 16,
   "id": "42f07e12",
   "metadata": {},
   "outputs": [
    {
     "name": "stdout",
     "output_type": "stream",
     "text": [
      "[1, 4, 9, 16, 25, 36, 49]\n"
     ]
    }
   ],
   "source": [
    "lst = [1,2,3,4,5,6,7]\n",
    "res = list(map((lambda x : x*x),lst))\n",
    "print(res)\n",
    "# list(map((lambda x:x*x),lst))"
   ]
  },
  {
   "cell_type": "code",
   "execution_count": 17,
   "id": "74834c3f",
   "metadata": {},
   "outputs": [
    {
     "name": "stdout",
     "output_type": "stream",
     "text": [
      "[2, 5, 3]\n"
     ]
    }
   ],
   "source": [
    "a = [1,2,3,4,5,6]\n",
    "b = [2,5,0,7,3]\n",
    "c= list(filter(lambda x: x in a, b))\n",
    "print(c) # prints out [2, 5, 3]"
   ]
  },
  {
   "cell_type": "code",
   "execution_count": 18,
   "id": "7d03a6ab",
   "metadata": {},
   "outputs": [
    {
     "name": "stdout",
     "output_type": "stream",
     "text": [
      "10\n",
      "[10]\n"
     ]
    }
   ],
   "source": [
    "lst = [1,2,3,4]\n",
    "from functools import reduce\n",
    "print(reduce(lambda x,y : x+y , lst))\n",
    "a = reduce(lambda x,y : x+y , lst)\n",
    "lst=[]\n",
    "lst.append(a)\n",
    "print(lst)"
   ]
  },
  {
   "cell_type": "code",
   "execution_count": 19,
   "id": "1f6d6b1d",
   "metadata": {},
   "outputs": [
    {
     "name": "stdout",
     "output_type": "stream",
     "text": [
      "5\n",
      "16\n"
     ]
    }
   ],
   "source": [
    "from abc import ABC , abstractmethod\n",
    "import math\n",
    "class Shape(ABC):\n",
    "    @abstractmethod\n",
    "    def perimeter(self):\n",
    "        pass\n",
    "    \n",
    "class Circle(Shape):\n",
    "    def __init__(self,r):\n",
    "        self.r = r\n",
    "    def perimeter(self):\n",
    "        print(round(self.r*math.pi))\n",
    "        \n",
    "num  = int(input())\n",
    "obj1 = Circle(num)\n",
    "obj1.perimeter()\n",
    "        "
   ]
  },
  {
   "cell_type": "code",
   "execution_count": 20,
   "id": "3f986422",
   "metadata": {},
   "outputs": [
    {
     "name": "stdout",
     "output_type": "stream",
     "text": [
      "The value is 251.37\n"
     ]
    }
   ],
   "source": [
    "val = 251.365\n",
    "va = 10\n",
    "print(\"The value is %.2f\"% val)"
   ]
  },
  {
   "cell_type": "code",
   "execution_count": 21,
   "id": "7feedeca",
   "metadata": {},
   "outputs": [
    {
     "name": "stdout",
     "output_type": "stream",
     "text": [
      "252\n",
      "251\n",
      "251\n"
     ]
    }
   ],
   "source": [
    "import math\n",
    "val = 251.365\n",
    "va = 10\n",
    "print(math.ceil(val))\n",
    "print(math.floor(val))\n",
    "print(round(val))"
   ]
  },
  {
   "cell_type": "code",
   "execution_count": 22,
   "id": "d967933a",
   "metadata": {},
   "outputs": [
    {
     "name": "stdout",
     "output_type": "stream",
     "text": [
      "True\n"
     ]
    }
   ],
   "source": [
    "a = \"abce\" >= \"abcdef\"\n",
    "print(a)"
   ]
  },
  {
   "cell_type": "code",
   "execution_count": 23,
   "id": "f0d5e741",
   "metadata": {},
   "outputs": [
    {
     "name": "stdout",
     "output_type": "stream",
     "text": [
      "9\n"
     ]
    }
   ],
   "source": [
    "# Two Dimensional Lists\n",
    "lst = [[1,2,3],\n",
    "       [4,5,6],\n",
    "       [7,8,9]]\n",
    "print(lst[2][2])"
   ]
  },
  {
   "cell_type": "code",
   "execution_count": 24,
   "id": "af31247c",
   "metadata": {},
   "outputs": [
    {
     "name": "stdout",
     "output_type": "stream",
     "text": [
      "[[0, 0, 0, 0], [0, 1, 2, 3], [0, 2, 4, 6]]\n"
     ]
    }
   ],
   "source": [
    "li = [[ i*j for j in range(4)] for i in range(3)]\n",
    "print(li)"
   ]
  },
  {
   "cell_type": "code",
   "execution_count": 25,
   "id": "588ce82f",
   "metadata": {},
   "outputs": [
    {
     "name": "stdout",
     "output_type": "stream",
     "text": [
      "[[1, 2, 3], [3, 4, 5]]\n"
     ]
    }
   ],
   "source": [
    "b = [1,2,3]\n",
    "c = [3,4,5]\n",
    "lst = []\n",
    "lst.append(b)\n",
    "lst.append(c)\n",
    "print(lst)"
   ]
  },
  {
   "cell_type": "code",
   "execution_count": 27,
   "id": "d7a0fedf",
   "metadata": {},
   "outputs": [
    {
     "name": "stdout",
     "output_type": "stream",
     "text": [
      "2 2\n",
      "123\n",
      "456\n",
      "[[123], [456]]\n"
     ]
    }
   ],
   "source": [
    "str1 = input().split()\n",
    "row,col = int(str1[0]),int(str1[1])\n",
    "# print(n,m)\n",
    "lst = [[int(j) for j in input().split()] for i in range(row)]\n",
    "print(lst)"
   ]
  },
  {
   "cell_type": "code",
   "execution_count": null,
   "id": "b5956597",
   "metadata": {},
   "outputs": [],
   "source": [
    "# jagged list\n",
    "# 2d list\n",
    "row = int(input())\n",
    "lst = [[int(j) for j in input().split()] for i in range(row)]\n",
    "print(lst)"
   ]
  },
  {
   "cell_type": "code",
   "execution_count": null,
   "id": "31fbeddf",
   "metadata": {},
   "outputs": [],
   "source": [
    "# single line input\n",
    "str1 = input().split()\n",
    "row,col = int(str1[0]),int(str1[1])\n",
    "b = input().split()\n",
    "lst = [[int(b[col*i+j]) for j in range(col)] for i in range(row)]\n",
    "print(lst)"
   ]
  },
  {
   "cell_type": "code",
   "execution_count": null,
   "id": "cfded720",
   "metadata": {},
   "outputs": [],
   "source": [
    "str1 = input().split()\n",
    "row,col = int(str1[0]),int(str1[1])\n",
    "b = str1[2:]\n",
    "lst = [[int(b[col*i+j]) for j in range(col)] for i in range(row)]\n",
    "print(lst)"
   ]
  },
  {
   "cell_type": "code",
   "execution_count": 28,
   "id": "953cedaf",
   "metadata": {},
   "outputs": [
    {
     "name": "stdout",
     "output_type": "stream",
     "text": [
      "1 2 3 4 \n",
      "5 6 7 8 \n",
      "9 10 11 12 \n"
     ]
    }
   ],
   "source": [
    "lst = [[1, 2, 3, 4], [5, 6, 7, 8], [9, 10, 11, 12]]\n",
    "for row in lst:\n",
    "    for ele in row:\n",
    "        print(ele,end=\" \")\n",
    "    print()"
   ]
  },
  {
   "cell_type": "code",
   "execution_count": 29,
   "id": "fca01d08",
   "metadata": {},
   "outputs": [
    {
     "name": "stdout",
     "output_type": "stream",
     "text": [
      "1 5 9 2 6 10 3 7 11 4 8 12 "
     ]
    }
   ],
   "source": [
    "li=[[1,2,3,4],[5,6,7,8],[9,10,11,12]]\n",
    "for j in range(4):\n",
    "    for ele in li:\n",
    "        print(ele[j],end = \" \")"
   ]
  },
  {
   "cell_type": "code",
   "execution_count": 30,
   "id": "ca3ca5cc",
   "metadata": {},
   "outputs": [
    {
     "name": "stdout",
     "output_type": "stream",
     "text": [
      "(6, 7)\n"
     ]
    }
   ],
   "source": [
    "a = 5,6,7\n",
    "print(a[1:])"
   ]
  },
  {
   "cell_type": "code",
   "execution_count": 31,
   "id": "20022deb",
   "metadata": {},
   "outputs": [
    {
     "name": "stdout",
     "output_type": "stream",
     "text": [
      "((1, 2), (4, 5))\n",
      "(1, 2)\n"
     ]
    }
   ],
   "source": [
    "a = 1,2\n",
    "b = (4,5)\n",
    "d = (a,b)\n",
    "print(d)\n",
    "print(d[0])"
   ]
  },
  {
   "cell_type": "code",
   "execution_count": 32,
   "id": "9b796cda",
   "metadata": {},
   "outputs": [
    {
     "name": "stdout",
     "output_type": "stream",
     "text": [
      "4\n"
     ]
    }
   ],
   "source": [
    "a = 1,2\n",
    "b = (4,5)\n",
    "d = a+b\n",
    "print(d[2])"
   ]
  },
  {
   "cell_type": "code",
   "execution_count": 33,
   "id": "bb8d21c3",
   "metadata": {},
   "outputs": [
    {
     "name": "stdout",
     "output_type": "stream",
     "text": [
      "ab\n"
     ]
    }
   ],
   "source": [
    "a = (\"ab\",\"abc\",\"def\")\n",
    "print(min(a))"
   ]
  },
  {
   "cell_type": "code",
   "execution_count": 34,
   "id": "d22e0492",
   "metadata": {},
   "outputs": [
    {
     "name": "stdout",
     "output_type": "stream",
     "text": [
      "120\n"
     ]
    }
   ],
   "source": [
    "def multiply(a,b,c,*more):\n",
    "    value = a*b*c\n",
    "    for i in more:\n",
    "        value = value * i\n",
    "    return value\n",
    "V = multiply(1,2,3,4,5)\n",
    "print(V)"
   ]
  },
  {
   "cell_type": "code",
   "execution_count": 35,
   "id": "745e116e",
   "metadata": {},
   "outputs": [
    {
     "name": "stdout",
     "output_type": "stream",
     "text": [
      "(9, 24)\n"
     ]
    }
   ],
   "source": [
    "def sum_multiply(a,b,*more):\n",
    "    sum_value = a+b\n",
    "    m_value = a*b\n",
    "    for i in more:\n",
    "        sum_value += i\n",
    "        m_value*=i\n",
    "    return sum_value,m_value\n",
    "s_m = sum_multiply(2,3,4)\n",
    "print(s_m)"
   ]
  },
  {
   "cell_type": "code",
   "execution_count": 36,
   "id": "4fe0ff77",
   "metadata": {},
   "outputs": [
    {
     "name": "stdout",
     "output_type": "stream",
     "text": [
      "2\n"
     ]
    }
   ],
   "source": [
    "d = {\"1\":2, \"abc\":5, \"def\":7}  #indexing with help of keys in dictionary \n",
    "print(d[\"1\"])"
   ]
  },
  {
   "cell_type": "code",
   "execution_count": 37,
   "id": "2c05c519",
   "metadata": {},
   "outputs": [
    {
     "name": "stdout",
     "output_type": "stream",
     "text": [
      "5\n"
     ]
    }
   ],
   "source": [
    "d = {1:2, \"abc\":5, \"def\":7}\n",
    "print(d.get(0,5))"
   ]
  },
  {
   "cell_type": "code",
   "execution_count": 38,
   "id": "efd3d06e",
   "metadata": {},
   "outputs": [
    {
     "name": "stdout",
     "output_type": "stream",
     "text": [
      "Not Present\n"
     ]
    }
   ],
   "source": [
    "d = {1:2, \"abc\":5, \"def\":7}\n",
    "if 2 in d:\n",
    "    print(\"Present\")\n",
    "else:\n",
    "    print(\"Not Present\")"
   ]
  },
  {
   "cell_type": "code",
   "execution_count": 39,
   "id": "41dcfc20",
   "metadata": {},
   "outputs": [
    {
     "name": "stdout",
     "output_type": "stream",
     "text": [
      "Sagar\n",
      "1\n"
     ]
    }
   ],
   "source": [
    "# use of super class\n",
    "class parent:\n",
    "    def __init__(self,id,name):\n",
    "        self.id = id\n",
    "        self.name = name\n",
    "class child(parent):\n",
    "    def __init__(self,id,name):\n",
    "        super().__init__(id,name)\n",
    "    def getid(self):\n",
    "        print(self.id)\n",
    "    def getname(self):\n",
    "        print(self.name)\n",
    "c1 = child(1,\"Sagar\")\n",
    "c1.getname()\n",
    "c1.getid()"
   ]
  },
  {
   "cell_type": "code",
   "execution_count": 40,
   "id": "f0848bc2",
   "metadata": {},
   "outputs": [
    {
     "name": "stdout",
     "output_type": "stream",
     "text": [
      "trerm\n",
      "sag\n",
      "lkaa\n",
      "laa\n"
     ]
    }
   ],
   "source": [
    "class filmMain:\n",
    "    def __init__(self,name,lan,actor,cat):\n",
    "        self.name = name\n",
    "        self.lan = lan\n",
    "        self.actor = actor\n",
    "        self.cat = cat\n",
    "    def getdisplay(self):\n",
    "        print(self.name,self.lan,self.actor,self.cat)\n",
    "name=input()\n",
    "lan=input()\n",
    "actor=input()\n",
    "cat=input()\n",
    "obj1 = filmMain(name,lan,actor,cat)"
   ]
  },
  {
   "cell_type": "code",
   "execution_count": 41,
   "id": "972b19e7",
   "metadata": {},
   "outputs": [
    {
     "name": "stdout",
     "output_type": "stream",
     "text": [
      "trerm sag lkaa laa\n"
     ]
    }
   ],
   "source": [
    "obj1.getdisplay()"
   ]
  },
  {
   "cell_type": "code",
   "execution_count": 4,
   "id": "11f9451e",
   "metadata": {},
   "outputs": [
    {
     "name": "stdout",
     "output_type": "stream",
     "text": [
      "-10 6 7 -13 8 2\n",
      "[[-13, 6, 7], [-10, 2, 8]]\n"
     ]
    }
   ],
   "source": [
    "# SUM TO ZERO (three sum is zero -- use class Sum)\n",
    "class Sum:\n",
    " def threeSum(self, nums):\n",
    "        nums, result, i = sorted(nums), [], 0\n",
    "        while i < len(nums) - 2:\n",
    "            j, k = i + 1, len(nums) - 1\n",
    "            while j < k:\n",
    "                if nums[i] + nums[j] + nums[k] < 0:\n",
    "                    j += 1\n",
    "                elif nums[i] + nums[j] + nums[k] > 0:\n",
    "                    k -= 1\n",
    "                else:\n",
    "                    result.append([nums[i], nums[j], nums[k]])\n",
    "                    j, k = j + 1, k - 1\n",
    "                    while j < k and nums[j] == nums[j - 1]:\n",
    "                        j += 1\n",
    "                    while j < k and nums[k] == nums[k + 1]:\n",
    "                        k -= 1\n",
    "            i += 1\n",
    "            while i < len(nums) - 2 and nums[i] == nums[i - 1]:\n",
    "                i += 1\n",
    "        return result\n",
    "arr = list(map(int,input().split()))    \n",
    "print(Sum().threeSum(arr))"
   ]
  },
  {
   "cell_type": "code",
   "execution_count": 43,
   "id": "4fb67dba",
   "metadata": {},
   "outputs": [
    {
     "name": "stdout",
     "output_type": "stream",
     "text": [
      "[80.0, 40.0]\n"
     ]
    }
   ],
   "source": [
    "def main():\n",
    "    myList = [[70, 80, 90], [30, 40, 50]]\n",
    "\n",
    "    print(print_student_average(myList))\n",
    "#     print_exam_average(myList)\n",
    "\n",
    "def print_student_average(myList):\n",
    "\n",
    "    return [sum(row)/len(row) for row in myList]\n",
    "\n",
    "def print_exam_average(myList):\n",
    "\n",
    "    col_totals = [ sum(x)/len(myList) for x in zip(*myList) ]\n",
    "\n",
    "    for col in col_totals:\n",
    "        print(\"the average of the exam is: \", col)\n",
    "\n",
    "main()"
   ]
  },
  {
   "cell_type": "code",
   "execution_count": 44,
   "id": "ac1f90c5",
   "metadata": {},
   "outputs": [
    {
     "name": "stdout",
     "output_type": "stream",
     "text": [
      "Enter the name :sdvsdv\n",
      "Enter the Event :dvsdv\n",
      "Enter the People :sdvsv\n"
     ]
    },
    {
     "ename": "ValueError",
     "evalue": "invalid literal for int() with base 10: 'sdvsv'",
     "output_type": "error",
     "traceback": [
      "\u001b[1;31m---------------------------------------------------------------------------\u001b[0m",
      "\u001b[1;31mValueError\u001b[0m                                Traceback (most recent call last)",
      "\u001b[1;32m<ipython-input-44-7c1d4f00ea41>\u001b[0m in \u001b[0;36m<module>\u001b[1;34m\u001b[0m\n\u001b[0;32m     22\u001b[0m \u001b[0mname\u001b[0m \u001b[1;33m=\u001b[0m \u001b[0minput\u001b[0m\u001b[1;33m(\u001b[0m\u001b[1;34m\"Enter the name :\"\u001b[0m\u001b[1;33m)\u001b[0m\u001b[1;33m\u001b[0m\u001b[1;33m\u001b[0m\u001b[0m\n\u001b[0;32m     23\u001b[0m \u001b[0mevent\u001b[0m \u001b[1;33m=\u001b[0m \u001b[0minput\u001b[0m\u001b[1;33m(\u001b[0m\u001b[1;34m\"Enter the Event :\"\u001b[0m\u001b[1;33m)\u001b[0m\u001b[1;33m\u001b[0m\u001b[1;33m\u001b[0m\u001b[0m\n\u001b[1;32m---> 24\u001b[1;33m \u001b[0mpeople\u001b[0m \u001b[1;33m=\u001b[0m \u001b[0mint\u001b[0m\u001b[1;33m(\u001b[0m\u001b[0minput\u001b[0m\u001b[1;33m(\u001b[0m\u001b[1;34m\"Enter the People :\"\u001b[0m\u001b[1;33m)\u001b[0m\u001b[1;33m)\u001b[0m\u001b[1;33m\u001b[0m\u001b[1;33m\u001b[0m\u001b[0m\n\u001b[0m\u001b[0;32m     25\u001b[0m \u001b[0mis_paid\u001b[0m \u001b[1;33m=\u001b[0m \u001b[0minput\u001b[0m\u001b[1;33m(\u001b[0m\u001b[1;34m\"Enter Y or N\"\u001b[0m\u001b[1;33m)\u001b[0m\u001b[1;33m\u001b[0m\u001b[1;33m\u001b[0m\u001b[0m\n\u001b[0;32m     26\u001b[0m \u001b[0mexp\u001b[0m \u001b[1;33m=\u001b[0m \u001b[0mfloat\u001b[0m\u001b[1;33m(\u001b[0m\u001b[0minput\u001b[0m\u001b[1;33m(\u001b[0m\u001b[1;34m\"Money :\"\u001b[0m\u001b[1;33m)\u001b[0m\u001b[1;33m)\u001b[0m\u001b[1;33m\u001b[0m\u001b[1;33m\u001b[0m\u001b[0m\n",
      "\u001b[1;31mValueError\u001b[0m: invalid literal for int() with base 10: 'sdvsv'"
     ]
    }
   ],
   "source": [
    "# namex = input(\"Enter the name of the event\")\n",
    "\n",
    "# event = input(\"Enter the type of the event\")\n",
    "\n",
    "# people = int(input(\"Enter the number of people expected\"))\n",
    "\n",
    "# is_paid = input(\"Is it a paid entry? (Type Y or N)\")\n",
    "\n",
    "# expenses = float(input(\"Enter the projected expenses (in lakhs) for this event\"))\n",
    "\n",
    "\n",
    "# print(\"Event Name :\", namex)\n",
    "\n",
    "# print(\"Event Type :\", event)\n",
    "\n",
    "# print(\"Expected Count :\", people)\n",
    "\n",
    "# print(\"Paid Entry :\", is_paid)\n",
    "\n",
    "# print(\"Projected Expense : %.1fL\" % expenses)\n",
    "\n",
    "name = input(\"Enter the name :\")\n",
    "event = input(\"Enter the Event :\")\n",
    "people = int(input(\"Enter the People :\"))\n",
    "is_paid = input(\"Enter Y or N\")\n",
    "exp = float(input(\"Money :\"))\n",
    "print(name)\n",
    "print(event)\n",
    "print(people)\n",
    "print(is_paid)\n",
    "print(\"%.2f\"%exp)"
   ]
  },
  {
   "cell_type": "code",
   "execution_count": 45,
   "id": "59f971a5",
   "metadata": {},
   "outputs": [
    {
     "name": "stdout",
     "output_type": "stream",
     "text": [
      "card-type:VISA\n",
      "ur-name:ssa\n",
      "card-number:34657\n",
      "amount:2352\n",
      "fuel-or-otherFuel\n",
      "ssa\n",
      "34657\n",
      "23.52\n"
     ]
    }
   ],
   "source": [
    "class VISACard:\n",
    "    def __init__(self,holder_name,card_number,purchase_type,amount):\n",
    "        self.holder_name = holder_name\n",
    "        self.card_number = card_number\n",
    "        self.purchase_type = purchase_type\n",
    "        self.amount = amount\n",
    "        \n",
    "    def display_details(self):\n",
    "        print(self.holder_name)\n",
    "        print(self.card_number)\n",
    "     \n",
    "    def compute_reward_points(self,purchase_type,amount):\n",
    "        reward_points = 0.01*self.amount\n",
    "        print(reward_points)\n",
    "        \n",
    "    \n",
    "class HPVISACard(VISACard):\n",
    "    def compute_reward_points(self,purchase_type,amount):\n",
    "        if self.purchase_type == \"Fuel\":\n",
    "            reward_points = (0.01*self.amount) + 10.0\n",
    "        else:\n",
    "            reward_points = 0.01*self.amount\n",
    "        print(reward_points)\n",
    "    \n",
    "card_type = input(\"card-type:\")\n",
    "name = input(\"ur-name:\")\n",
    "number = input(\"card-number:\")\n",
    "amt = int(input(\"amount:\"))\n",
    "pur_type = input(\"fuel-or-other\")\n",
    "\n",
    "if card_type == \"VISA\":\n",
    "    visa_obj = VISACard(name,number,pur_type,amt)\n",
    "    visa_obj.display_details()\n",
    "    visa_obj.compute_reward_points(pur_type,amt)\n",
    "\n",
    "elif card_type == \"HPVISA\":\n",
    "    hpvisa_obj = HPVISACard(name,number,pur_type,amt)\n",
    "    hpvisa_obj.display_details()\n",
    "    hpvisa_obj.compute_reward_points(pur_type,amt)\n",
    "\n",
    "else :\n",
    "    print(\"Invalid Choice\")"
   ]
  },
  {
   "cell_type": "code",
   "execution_count": 46,
   "id": "d48f188b",
   "metadata": {},
   "outputs": [
    {
     "name": "stdout",
     "output_type": "stream",
     "text": [
      "sagar\n",
      "dgadcb\n",
      "ascadc\n",
      "sagar\n",
      "Invalid Input Format\n"
     ]
    }
   ],
   "source": [
    "name = input()\n",
    "dep_amt = input()\n",
    "cost_p_day = input()\n",
    "try:\n",
    "    print(name)\n",
    "    print(float(dep_amt))\n",
    "    print(float(cost))\n",
    "except:\n",
    "    print(\"Invalid Input Format\")"
   ]
  },
  {
   "cell_type": "code",
   "execution_count": 47,
   "id": "bbb37f57",
   "metadata": {},
   "outputs": [
    {
     "name": "stdout",
     "output_type": "stream",
     "text": [
      "First Name:Rawat , last Name:Sagar , num 56.24\n",
      "B\n"
     ]
    }
   ],
   "source": [
    "class name:\n",
    "    class_name = \"B\"\n",
    "    def __init__(self,name,last,num):\n",
    "        self.name = name\n",
    "        self.last = last\n",
    "        self.num = num\n",
    "    def print_details(self):\n",
    "        print(\"First Name:{} , last Name:{} , num {:.2f}\".format(self.last,self.name,self.num))\n",
    "#         Access the python class variable using the class name \n",
    "        print(name.class_name)\n",
    "obj1 = name(\"Sagar\",\"Rawat\",56.23789)\n",
    "obj1.print_details()"
   ]
  },
  {
   "cell_type": "code",
   "execution_count": 48,
   "id": "860eb654",
   "metadata": {},
   "outputs": [
    {
     "name": "stdout",
     "output_type": "stream",
     "text": [
      "20.36\n"
     ]
    }
   ],
   "source": [
    "x = 20.356\n",
    "print(\"%.2f\"%x)"
   ]
  },
  {
   "cell_type": "code",
   "execution_count": 52,
   "id": "7d864d5c",
   "metadata": {},
   "outputs": [
    {
     "name": "stdout",
     "output_type": "stream",
     "text": [
      "I am a class variable in class A\n",
      "Special I am inside class A's constructor Instance var in class A\n"
     ]
    }
   ],
   "source": [
    "class A:\n",
    "    classvar1 = \"I am a class variable in class A\"\n",
    "    def __init__(self):\n",
    "        self.var1 = \"I am inside class A's constructor\"\n",
    "        self.classvar1 = \"Instance var in class A\"\n",
    "        self.special = \"Special\"\n",
    "\n",
    "class B(A):\n",
    "    classvar1 = \"I am in class B\"\n",
    "\n",
    "    def __init__(self):\n",
    "        super().__init__()\n",
    "#         self.var1 = \"I am inside class B's constructor\"\n",
    "#         self.classvar1 = \"Instance var in class B\"\n",
    "        print(super().classvar1)\n",
    "\n",
    "\n",
    "a = A()\n",
    "b = B()\n",
    "\n",
    "print(b.special, b.var1, b.classvar1)\n"
   ]
  },
  {
   "cell_type": "code",
   "execution_count": 56,
   "id": "081539b4",
   "metadata": {},
   "outputs": [
    {
     "name": "stdout",
     "output_type": "stream",
     "text": [
      "Sagar\n",
      "1\n",
      "100\n"
     ]
    }
   ],
   "source": [
    "class Person:\n",
    "    def __init__(self,fn,ids):\n",
    "        self.fn = fn\n",
    "        self.ids = ids\n",
    "class Students(Person):\n",
    "    def __init__(self,fn,ids,testscore):\n",
    "        super().__init__(fn,ids)\n",
    "        self.testscore = testscore\n",
    "    def detail(self):\n",
    "        print(self.fn)\n",
    "        print(self.ids)\n",
    "        print(self.testscore)\n",
    "obj = Students(\"Sagar\",1,100)\n",
    "obj.detail()"
   ]
  },
  {
   "cell_type": "code",
   "execution_count": 59,
   "id": "c05849ec",
   "metadata": {
    "scrolled": true
   },
   "outputs": [
    {
     "name": "stdout",
     "output_type": "stream",
     "text": [
      "1 2 3 4 \n",
      "[1, 2, 3, 4]\n"
     ]
    }
   ],
   "source": [
    "arr = list(map(int,input().split()))\n",
    "print(arr)"
   ]
  },
  {
   "cell_type": "code",
   "execution_count": 3,
   "id": "93840a67",
   "metadata": {},
   "outputs": [
    {
     "name": "stdout",
     "output_type": "stream",
     "text": [
      "2 3 4\n",
      "[[], [4], [3], [3, 4], [2], [2, 4], [2, 3], [2, 3, 4]]\n"
     ]
    }
   ],
   "source": [
    "O1 : UNIQUE SUBSETS\n",
    "class py_solution: \n",
    "    def sub_sets(self, s1): \n",
    "        return self.f2([], sorted(s1))\n",
    "    def f2(self, curr, s1):\n",
    "        if s1:\n",
    "            return self.f2(curr, s1[1:]) + self.f2(curr + [s1[0]], s1[1:]) \n",
    "        return [curr]\n",
    "\n",
    "n = list(map(int,input().split()))\n",
    "print(py_solution().sub_sets(n))"
   ]
  }
 ],
 "metadata": {
  "kernelspec": {
   "display_name": "Python 3 (ipykernel)",
   "language": "python",
   "name": "python3"
  },
  "language_info": {
   "codemirror_mode": {
    "name": "ipython",
    "version": 3
   },
   "file_extension": ".py",
   "mimetype": "text/x-python",
   "name": "python",
   "nbconvert_exporter": "python",
   "pygments_lexer": "ipython3",
   "version": "3.9.7"
  }
 },
 "nbformat": 4,
 "nbformat_minor": 5
}
